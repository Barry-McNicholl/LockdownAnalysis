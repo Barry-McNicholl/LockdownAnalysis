{
 "cells": [
  {
   "cell_type": "code",
   "execution_count": 2,
   "metadata": {},
   "outputs": [],
   "source": [
    "# import the necessary packages\n",
    "from skimage.measure import compare_ssim\n",
    "import argparse\n",
    "#import imutils\n",
    "import cv2"
   ]
  },
  {
   "cell_type": "code",
   "execution_count": null,
   "metadata": {},
   "outputs": [],
   "source": [
    "#####SHAPE OF THE IMAGES\n",
    "print(\"The type of this input is {}\".format(type(no2_22032020)))\n",
    "print(\"Shape: {}\".format(no2_19032020.shape))\n",
    "print(\"Shape: {}\".format(no2_22032020.shape))\n",
    "plt.imshow(no2_19032020)\n",
    "#image = cv2.cvtColor(no2_21032020, cv2.COLOR_BGR2RGB)\n",
    "cv2.imshow(\"image\", image)\n",
    "\n",
    "#gray_image = cv2.cvtColor(no2_21032020, cv2.COLOR_BGR2GRAY)\n",
    "cv2.imshow(\"gray_image\", gray_image)"
   ]
  },
  {
   "cell_type": "code",
   "execution_count": null,
   "metadata": {},
   "outputs": [],
   "source": [
    "#####SHOW IMAGES\n",
    "cv2.imshow(\"no2_19032020\", no2_19032020)\n",
    "cv2.imshow(\"no2_22032020\",no2_22032020)\n",
    "\n",
    "\n",
    "diff1 = cv2.subtract(no2_19032020, no2_22032020)\n",
    "diff2 = cv2.subtract(no2_22032020, no2_19032020)\n",
    "\n",
    "cv2.imshow(\"difference19-22\",diff1)\n",
    "cv2.imshow(\"difference22-19\",diff2)\n",
    "b, g, r =cv2.split(diff2)\n",
    "print(cv2.countNonZero(b))\n",
    "print(cv2.countNonZero(g))\n",
    "print(cv2.countNonZero(r))\n",
    "b, g, r = cv2.split(difference)"
   ]
  },
  {
   "cell_type": "code",
   "execution_count": 3,
   "metadata": {},
   "outputs": [
    {
     "name": "stderr",
     "output_type": "stream",
     "text": [
      "usage: ipykernel_launcher.py [-h] -f FIRST -s SECOND\n",
      "ipykernel_launcher.py: error: the following arguments are required: -s/--second\n"
     ]
    },
    {
     "ename": "SystemExit",
     "evalue": "2",
     "output_type": "error",
     "traceback": [
      "An exception has occurred, use %tb to see the full traceback.\n",
      "\u001b[0;31mSystemExit\u001b[0m\u001b[0;31m:\u001b[0m 2\n"
     ]
    },
    {
     "name": "stderr",
     "output_type": "stream",
     "text": [
      "/home/dk/anaconda3/lib/python3.7/site-packages/IPython/core/interactiveshell.py:3334: UserWarning: To exit: use 'exit', 'quit', or Ctrl-D.\n",
      "  warn(\"To exit: use 'exit', 'quit', or Ctrl-D.\", stacklevel=1)\n"
     ]
    }
   ],
   "source": [
    "# construct the argument parse and parse the arguments\n",
    "ap = argparse.ArgumentParser()\n",
    "ap.add_argument(\"-f\", \"--first\", required=True, help=\"nitrogendioxide_tropospheric_in_S5P_OFFL_L2__NO2____20200319T064212_202003.png\")\n",
    "ap.add_argument(\"-s\", \"--second\", required=True, help=\"nitrogendioxide_tropospheric_in_S5P_OFFL_L2__NO2____20200322T054527_202003.png\")\n",
    "args = vars(ap.parse_args())\n",
    "# load the two input images\n",
    "imageA = cv2.imread(args[\"first\"])\n",
    "imageB = cv2.imread(args[\"second\"])\n",
    "# convert the images to grayscale\n",
    "grayA = cv2.cvtColor(imageA, cv2.COLOR_BGR2GRAY)\n",
    "grayB = cv2.cvtColor(imageB, cv2.COLOR_BGR2GRAY)\n",
    "# compute the Structural Similarity Index (SSIM) between the two\n",
    "# images, ensuring that the difference image is returned\n",
    "(score, diff) = compare_ssim(grayA, grayB, full=True)\n",
    "diff = (diff * 255).astype(\"uint8\")\n",
    "print(\"SSIM: {}\".format(score))"
   ]
  },
  {
   "cell_type": "code",
   "execution_count": null,
   "metadata": {},
   "outputs": [],
   "source": [
    "# threshold the difference image, followed by finding contours to\n",
    "# obtain the regions of the two input images that differ\n",
    "thresh = cv2.threshold(diff, 0, 255,\n",
    "cv2.THRESH_BINARY_INV | cv2.THRESH_OTSU)[1]\n",
    "cnts = cv2.findContours(thresh.copy(), cv2.RETR_EXTERNAL,\n",
    "cv2.CHAIN_APPROX_SIMPLE)\n",
    "cnts = imutils.grab_contours(cnts)\n",
    "# loop over the contours\n",
    "for c in cnts:\n",
    "# compute the bounding box of the contour and then draw the\n",
    "# bounding box on both input images to represent where the two\n",
    "# images differ\n",
    "(x, y, w, h) = cv2.boundingRect(c)\n",
    "cv2.rectangle(imageA, (x, y), (x + w, y + h), (0, 0, 255), 2)\n",
    "cv2.rectangle(imageB, (x, y), (x + w, y + h), (0, 0, 255), 2)"
   ]
  },
  {
   "cell_type": "code",
   "execution_count": null,
   "metadata": {},
   "outputs": [],
   "source": [
    "# show the output images\n",
    "cv2.imshow(\"Original\", imageA)\n",
    "cv2.imshow(\"Modified\", imageB)\n",
    "cv2.imshow(\"Diff\", diff)\n",
    "cv2.imshow(\"Thresh\", thresh)\n",
    "cv2.waitKey(0)"
   ]
  }
 ],
 "metadata": {
  "kernelspec": {
   "display_name": "Python 3",
   "language": "python",
   "name": "python3"
  },
  "language_info": {
   "codemirror_mode": {
    "name": "ipython",
    "version": 3
   },
   "file_extension": ".py",
   "mimetype": "text/x-python",
   "name": "python",
   "nbconvert_exporter": "python",
   "pygments_lexer": "ipython3",
   "version": "3.7.4"
  }
 },
 "nbformat": 4,
 "nbformat_minor": 4
}
