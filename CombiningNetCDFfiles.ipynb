{
 "cells": [
  {
   "cell_type": "code",
   "execution_count": null,
   "metadata": {
    "colab": {},
    "colab_type": "code",
    "id": "Z12sgxaJg5Sw"
   },
   "outputs": [],
   "source": [
    "from gcpy import core\n",
    "import os\n",
    "import numpy as np\n",
    "import xarray as xr\n",
    "from xarray.coding.variables import SerializationWarning\n",
    "import warnings"
   ]
  },
  {
   "cell_type": "markdown",
   "metadata": {},
   "source": [
    "### Nitrogen Dioxide"
   ]
  },
  {
   "cell_type": "code",
   "execution_count": null,
   "metadata": {
    "colab": {},
    "colab_type": "code",
    "id": "2NpxlBbmg5TO"
   },
   "outputs": [],
   "source": [
    "### Renaming 1 file\n",
    "!ncrename -h -v nitrogendioxide_tropospheric_column,no2tc S5P_OFFL_L2__NO2____20200415T063856_20200415T082027_12980_01_010302_20200416T231404.SUB.nc"
   ]
  },
  {
   "cell_type": "code",
   "execution_count": null,
   "metadata": {
    "colab": {},
    "colab_type": "code",
    "id": "hjf59bHSg5Th"
   },
   "outputs": [],
   "source": [
    "!ncdump -h S5P_OFFL_L2__NO2____20200415T063856_20200415T082027_12980_01_010302_20200416T231404.SUB.nc"
   ]
  },
  {
   "cell_type": "code",
   "execution_count": null,
   "metadata": {},
   "outputs": [],
   "source": [
    "## rename nitrogendioxide_tropospheric_column to no2tc\n",
    "for f in *.nc; do ncrename -h -v nitrogendioxide_tropospheric_column,no2tc $f; done"
   ]
  },
  {
   "cell_type": "code",
   "execution_count": null,
   "metadata": {},
   "outputs": [],
   "source": [
    "# Step 4:  Merge netCDF files into one multidimensional file\n",
    "!ncecat -O -h -x -v no2tc -u time S5P_OFFL_L2_NO2*.nc nitrogendioxide.nc"
   ]
  },
  {
   "cell_type": "code",
   "execution_count": null,
   "metadata": {},
   "outputs": [],
   "source": [
    "#final combined file\n",
    "!ncdump -h nitrogendioxide.nc"
   ]
  },
  {
   "cell_type": "markdown",
   "metadata": {},
   "source": [
    "### Sulphur Dioxide"
   ]
  },
  {
   "cell_type": "code",
   "execution_count": null,
   "metadata": {},
   "outputs": [],
   "source": [
    "## rename sulphurdioxide_total_vertical_column to so2tc\n",
    "for f in *.nc; do ncrename -h -v sulphurdioxide_total_vertical_column ,so2tc $f; done"
   ]
  },
  {
   "cell_type": "code",
   "execution_count": null,
   "metadata": {},
   "outputs": [],
   "source": [
    "# Step 4:  Merge netCDF files into one multidimensional file\n",
    "!ncecat -O -h -x -v so2tc -u time S5P_OFFL_L2_SO2*.nc sulphurdioxide.nc"
   ]
  },
  {
   "cell_type": "code",
   "execution_count": null,
   "metadata": {},
   "outputs": [],
   "source": [
    "#final combined file\n",
    "!ncdump -h sulphurdioxide.nc"
   ]
  },
  {
   "cell_type": "markdown",
   "metadata": {},
   "source": [
    "### Carbon Monoxide"
   ]
  },
  {
   "cell_type": "code",
   "execution_count": null,
   "metadata": {},
   "outputs": [],
   "source": [
    "## rename carbonmonoxide_total_column to so2tc\n",
    "for f in *.nc; do ncrename -h -v carbonmonoxide_total_column ,cotc $f; done"
   ]
  },
  {
   "cell_type": "code",
   "execution_count": null,
   "metadata": {},
   "outputs": [],
   "source": [
    "# Step 4:  Merge netCDF files into one multidimensional file\n",
    "!ncecat -O -h -x -v cotc -u time S5P_OFFL_L2_CO*.nc carbonmonoxide.nc"
   ]
  },
  {
   "cell_type": "code",
   "execution_count": null,
   "metadata": {},
   "outputs": [],
   "source": [
    "#final combined file\n",
    "!ncdump -h carbonmonoxide.nc"
   ]
  },
  {
   "cell_type": "markdown",
   "metadata": {},
   "source": [
    "### Ozone"
   ]
  },
  {
   "cell_type": "code",
   "execution_count": null,
   "metadata": {},
   "outputs": [],
   "source": [
    "## rename ozone_total_vertical_column to so2tc\n",
    "for f in *.nc; do ncrename -h -v ozono_total_vertical_column ,ozonetc $f; done"
   ]
  },
  {
   "cell_type": "code",
   "execution_count": null,
   "metadata": {},
   "outputs": [],
   "source": [
    "# Step 4:  Merge netCDF files into one multidimensional file\n",
    "!ncecat -O -h -x -v ozonetc -u time S5P_OFFL_L2_OZONE*.nc ozone.nc"
   ]
  },
  {
   "cell_type": "code",
   "execution_count": null,
   "metadata": {},
   "outputs": [],
   "source": [
    "#final combined file\n",
    "!ncdump -h ozone.nc"
   ]
  }
 ],
 "metadata": {
  "colab": {
   "name": "finalcombine.ipynb",
   "provenance": []
  },
  "kernelspec": {
   "display_name": "Python 3",
   "language": "python",
   "name": "python3"
  },
  "language_info": {
   "codemirror_mode": {
    "name": "ipython",
    "version": 3
   },
   "file_extension": ".py",
   "mimetype": "text/x-python",
   "name": "python",
   "nbconvert_exporter": "python",
   "pygments_lexer": "ipython3",
   "version": "3.7.4"
  }
 },
 "nbformat": 4,
 "nbformat_minor": 1
}
