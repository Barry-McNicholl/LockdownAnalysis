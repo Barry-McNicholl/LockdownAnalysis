{
 "cells": [
  {
   "cell_type": "code",
   "execution_count": null,
   "metadata": {
    "colab": {},
    "colab_type": "code",
    "id": "Z12sgxaJg5Sw"
   },
   "outputs": [],
   "source": [
    "from gcpy import core\n",
    "import os\n",
    "import numpy as np\n",
    "import xarray as xr\n",
    "from xarray.coding.variables import SerializationWarning\n",
    "import warnings"
   ]
  },
  {
   "cell_type": "code",
   "execution_count": null,
   "metadata": {
    "colab": {},
    "colab_type": "code",
    "id": "2NpxlBbmg5TO"
   },
   "outputs": [],
   "source": [
    "!ncrename -h -v nitrogendioxide_tropospheric_column,no2tc S5P_OFFL_L2__NO2____20200415T063856_20200415T082027_12980_01_010302_20200416T231404.SUB.nc"
   ]
  },
  {
   "cell_type": "code",
   "execution_count": null,
   "metadata": {
    "colab": {},
    "colab_type": "code",
    "id": "hjf59bHSg5Th"
   },
   "outputs": [],
   "source": [
    "!ncdump -h S5P_OFFL_L2__NO2____20200415T063856_20200415T082027_12980_01_010302_20200416T231404.SUB.nc"
   ]
  },
  {
   "cell_type": "code",
   "execution_count": null,
   "metadata": {
    "colab": {},
    "colab_type": "code",
    "id": "hZHcVTaIg5T2"
   },
   "outputs": [],
   "source": [
    "!for %f in (*.nc) do (ncrename -h -v nitrogendioxide_tropospheric_column,no2tc %f)"
   ]
  }
 ],
 "metadata": {
  "colab": {
   "name": "finalcombine.ipynb",
   "provenance": []
  },
  "kernelspec": {
   "display_name": "Python 3",
   "language": "python",
   "name": "python3"
  },
  "language_info": {
   "codemirror_mode": {
    "name": "ipython",
    "version": 3
   },
   "file_extension": ".py",
   "mimetype": "text/x-python",
   "name": "python",
   "nbconvert_exporter": "python",
   "pygments_lexer": "ipython3",
   "version": "3.7.4"
  }
 },
 "nbformat": 4,
 "nbformat_minor": 1
}
