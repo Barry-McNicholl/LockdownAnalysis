{
 "cells": [
  {
   "cell_type": "code",
   "execution_count": null,
   "metadata": {
    "colab": {},
    "colab_type": "code",
    "id": "oFEvLDq1g3m_"
   },
   "outputs": [],
   "source": [
    "import import_ipynb\n",
    "\n",
    "from matplotlib import pyplot as plt\n",
    "from termcolor import colored\n",
    "import cartopy.crs as ccrs\n",
    "import matplotlib.colors as colors\n",
    "import xarray as xr\n",
    "import numpy as np\n",
    "import cartopy\n",
    "import matplotlib.gridspec as gridspec\n",
    "from glob import iglob\n",
    "from os.path import join\n",
    "from functools import reduce\n",
    "import pandas as pd\n",
    "import harp \n",
    "import itertools\n",
    "import cartopy.feature as cf\n",
    "from cartopy.mpl.gridliner import LONGITUDE_FORMATTER, LATITUDE_FORMATTER\n",
    "import matplotlib.patches as mpatches\n",
    "import imageio\n",
    "import netCDF4\n",
    "from netCDF4 import Dataset\n",
    "import cartopy.io.shapereader as shpreader\n",
    "import cartopy.io.img_tiles as cimgt\n",
    "import matplotlib.pyplot as plt\n",
    "import cartopy.mpl.geoaxes\n",
    "import matplotlib.pyplot as plt\n",
    "from mpl_toolkits.axes_grid1.inset_locator import inset_axes\n",
    "%matplotlib inline\n",
    "import numpy as np"
   ]
  },
  {
   "cell_type": "code",
   "execution_count": null,
   "metadata": {
    "colab": {},
    "colab_type": "code",
    "id": "VxB0ysZig3nH"
   },
   "outputs": [],
   "source": [
    "product_path = \"C:/DELHI2020NO2JAN\"\n",
    "\n",
    "\n",
    "#2019 data stored in a list\n",
    "files2019 =sorted(list(iglob(join(product_path, \"*2019*.nc\"), recursive =True)))\n",
    "print(colored(\"NO2 2019 files:\",\"red\"), len(files2019))\n",
    "\n",
    "#2020 data stored in a different list\n",
    "files2020 = sorted(list(iglob(join(product_path, \"*2020*.nc\"), recursive =True)))\n",
    "print(colored(\"NO2 2020 files:\",\"red\"), len(files2020))\n",
    "\n",
    "\n",
    "#sample file for testing on a 1stMARCH2019 data\n",
    "file1 = input_files_2020[0]\n",
    "file2 = input_files_2020[1]\n",
    "print(colored(\"Product selected for analyis:\",\"blue\"), file1)\n",
    "print(colored(\"Product selected for analyis:\",\"blue\"), file2)"
   ]
  },
  {
   "cell_type": "code",
   "execution_count": null,
   "metadata": {
    "colab": {},
    "colab_type": "code",
    "id": "Mrh2aozkg3nN"
   },
   "outputs": [],
   "source": [
    "#opening product ----Global Attributes\n",
    "with xr.open_dataset(file1) as file1GA:\n",
    "    print(colored(\"Global attributes:\\n\", \"blue\"), file1GA)\n",
    "\n",
    "\n",
    "#opeining product METADATA\n",
    "with xr.open_dataset(file1, group = \"METADATA\") as file1MT:\n",
    "    print(colored(\"\\nMETADATA:\\n\", \"blue\"), file1MT)\n",
    "    \n",
    "with xr.open_dataset(file1, group =\"PRODUCT\") as file1PRD:\n",
    "    print(colored(\"\\nPRODUCT GROUP:\\n\", \"blue\"), file1PRD)"
   ]
  },
  {
   "cell_type": "code",
   "execution_count": null,
   "metadata": {
    "colab": {},
    "colab_type": "code",
    "id": "Np4XIXLdg3nS"
   },
   "outputs": [],
   "source": [
    "#DATA VARIABLES ACCESS\n",
    "no2 = file1PRD['nitrogendioxide_tropospheric_column']\n",
    "print(colored(\"\\nAttributes:\", \"blue\"), no2.attrs)\n",
    "print(colored(\"\\nValues:\", \"blue\"), no2.values)\n",
    "print(colored('Dimension of axis:', \"blue\"), no2.dims)\n",
    "print(colored(\"\\nCoordinates\", \"blue\"), no2.coords)\n"
   ]
  },
  {
   "cell_type": "code",
   "execution_count": null,
   "metadata": {
    "colab": {},
    "colab_type": "code",
    "id": "6tLGqbEQg3nX"
   },
   "outputs": [],
   "source": [
    "print(no2[0])"
   ]
  },
  {
   "cell_type": "code",
   "execution_count": null,
   "metadata": {
    "colab": {},
    "colab_type": "code",
    "id": "_cK9yAsxg3nc"
   },
   "outputs": [],
   "source": [
    "### Converting values to standard units\n",
    "### Filtering out data\n",
    "no2 = no2*(6.02214e+19)\n",
    "no2_filter = no2.where(file1PRD['qa_value'] > 0.75, drop = True)"
   ]
  },
  {
   "cell_type": "markdown",
   "metadata": {},
   "source": [
    "### Average Data Collection"
   ]
  },
  {
   "cell_type": "code",
   "execution_count": null,
   "metadata": {},
   "outputs": [],
   "source": [
    "no2_new = no2\n",
    "out = np.nan_to_num(no2_new)  \n",
    "print(out)\n",
    "print(no2_new)\n",
    "print(no2_new.size)\n",
    "print(np.count_nonzero(no2_new))\n",
    "\n",
    "print(np.sum(no2_new))"
   ]
  },
  {
   "cell_type": "code",
   "execution_count": null,
   "metadata": {},
   "outputs": [],
   "source": [
    "### Obtaining data from all files\n",
    "import sys\n",
    "for i in files2020:\n",
    "    file1PRD = xr.open_dataset(i, group =\"PRODUCT\")\n",
    "    no2 = file1PRD['methane_mixing_ratio']\n",
    "    no2_new = np.nan_to_num(no2.values)\n",
    "    sumele = np.sum(no2_new)\n",
    "    nonzero = np.count_nonzero(no2_new)\n",
    "    average = sumele/nonzero\n",
    "    name = i[50:58]\n",
    "    print(name,\" \", average)\n",
    "    "
   ]
  },
  {
   "cell_type": "code",
   "execution_count": null,
   "metadata": {
    "colab": {},
    "colab_type": "code",
    "id": "ce8vVgbFg3ng"
   },
   "outputs": [],
   "source": []
  },
  {
   "cell_type": "markdown",
   "metadata": {
    "colab_type": "text",
    "id": "Tukul8kbg3nm"
   },
   "source": [
    "### Plots\n"
   ]
  },
  {
   "cell_type": "code",
   "execution_count": null,
   "metadata": {},
   "outputs": [],
   "source": [
    "from IPython.display import IFrame\n",
    "ne = IFrame(src='https://www.naturalearthdata.com', width=1000, height=500)\n",
    "display(ne)"
   ]
  },
  {
   "cell_type": "code",
   "execution_count": null,
   "metadata": {
    "colab": {},
    "colab_type": "code",
    "id": "7blGwRjEg3nn"
   },
   "outputs": [],
   "source": [
    "plt.figure(figsize=(17,12))\n",
    "ax = plt.subplot(111, projection=ccrs.Orthographic(central_latitude=20.7041, central_longitude=77.1025))\n",
    "no2[0].plot.pcolormesh(ax=ax, x ='longitude', y='latitude', add_colorbar=True, cmap='magma_r',transform=ccrs.PlateCarree(),vmin=0)\n",
    "ax.add_feature(cartopy.feature.RIVERS)\n",
    "ax.set_title('NO2(Delhi) 2019/03/09')\n",
    "ax.coastlines('10m')\n",
    "###ADDING STATES TO THE GRAPH\n",
    "states_provinces = cf.NaturalEarthFeature(category='cultural',\n",
    "                                                name='admin_1_states_provinces',\n",
    "                                                scale='10m',\n",
    "                                                facecolor='none')\n",
    "\n",
    "ax.add_feature(cf.LAND)\n",
    "ax.add_feature(cf.COASTLINE)\n",
    "ax.add_feature(states_provinces, edgecolor='gray')         \n",
    "ax.add_feature(cf.LAND)\n",
    "ax.add_feature(cf.OCEAN)\n",
    "ax.add_feature(cf.COASTLINE)\n",
    "ax.add_feature(cf.BORDERS,)\n",
    "ax.add_feature(cf.LAKES, alpha=0.5 )\n",
    "ax.add_feature(cf.RIVERS, alpha=1)\n",
    "ax.stock_img()\n",
    "ax.gridlines()\n",
    "\n",
    "#Adding Delhi to our plot\n",
    "\n",
    "ax.plot(28.5,77.5,'bo', markersize=7, transform=ccrs.PlateCarree())\n",
    "ax.text(29, 78, \"Delhi\")\n",
    "#Saving the plot\n",
    "plt.savefig('C:/Users/resultmay/', bbox_inches='tight', dpi =300)\n",
    "\n"
   ]
  },
  {
   "cell_type": "code",
   "execution_count": null,
   "metadata": {},
   "outputs": [],
   "source": [
    "plt.figure(figsize=(12, 12))\n",
    "ax = plt.axes(projection=ccrs.PlateCarree())\n",
    "#no2[0].plot.pcolormesh(ax=ax, x='longitude', y='latitude', add_colorbar = True, cmap='magma_r', vmin=0);\n",
    "\n",
    "\n",
    "# natural earth\n",
    "# remove ne_10m_ from ne_10m_admin_1_states_provinces downloaded file name for name argument assignment\n",
    "states_provinces = cf.NaturalEarthFeature(category='cultural',\n",
    "                                                name='admin_1_states_provinces',\n",
    "                                                scale='10m',\n",
    "                                                facecolor='none')\n",
    "\n",
    "ax.add_feature(cf.LAND)\n",
    "ax.add_feature(cf.COASTLINE)\n",
    "ax.add_feature(states_provinces, edgecolor='gray')"
   ]
  },
  {
   "cell_type": "markdown",
   "metadata": {
    "colab_type": "text",
    "id": "rNwTJ17Cg3nt"
   },
   "source": [
    "### Quality Filter"
   ]
  },
  {
   "cell_type": "code",
   "execution_count": null,
   "metadata": {
    "colab": {},
    "colab_type": "code",
    "id": "GzZRHB04g3nt"
   },
   "outputs": [],
   "source": [
    "no2_filter = no2.where(file1PRD['qa_value'] > 0.75, drop = True)\n",
    "\n",
    "#plot original data vs quality flag\n",
    "plt.figure(figsize=(30, 10))\n",
    "                \n",
    "#Plot masked NO2 data                \n",
    "ax2 = plt.subplot(122, projection=ccrs.Orthographic(11, 42))\n",
    "no2_filter[0].plot.pcolormesh(ax=ax2, x='longitude', y='latitude', add_colorbar =True,cmap='magma_r',transform=ccrs.PlateCarree(), vmin=0)\n",
    "ax2.set_tile('Filtered S_5p ,Quality Flag Layer> 0.75')\n",
    "ax2.add_feature(cartopy.feature.RIVERS)\n",
    "ax2.coastlines('10m')\n",
    "ax2.stock_img()\n",
    "ax2.gridlines()\n",
    "                \n",
    "### Save the file\n",
    "                \n",
    "plt.savefig(\"C:/Users/resultmay/\",bbox_inches='tight', dpi=300)\n",
    "                "
   ]
  },
  {
   "cell_type": "markdown",
   "metadata": {
    "colab_type": "text",
    "id": "d7nqixdsg3nw"
   },
   "source": [
    "### Delhi Subset"
   ]
  },
  {
   "cell_type": "code",
   "execution_count": null,
   "metadata": {
    "colab": {},
    "colab_type": "code",
    "id": "noC26Adng3nw"
   },
   "outputs": [],
   "source": [
    "ur = (29,77.5 )\n",
    "ll = (28.3,76.8 )\n",
    "no2_subset = no2_filter.where((no2_filter.longitude < ur[1]) & (no2_filter.longitude > ll[1]) & (no2_filter.latitude < ur[0]), drop = True)\n",
    "\n",
    "#plot subset\n",
    "plt.figure(figsize(12,12))\n",
    "ax = plt.axes(projection=ccrs.Orthographir(11, 42))\n",
    "\n",
    "stt_prv =cf.NaturalEarthFeature(category='cultural',name='admin_1_states_provinces_lines',scale='10m',facecolor='none')\n",
    "\n",
    "no2_subset[0].plot.pcolormesh(ax=ax, x='longitude', y='latitude', add_colorbar=True, cmaps='magma_r',transform=ccrs.PlateCarree(), vmin=0)\n",
    "ax.add_feature(cartopy.feature.LAND, edgecolors='black')\n",
    "ax.add_feature(stt_prc, linewidth=0.2, edgecolor='black')\n",
    "ax.set_title('NO2 concentration | qa_value >0.75')\n",
    "\n",
    "### Add POI to map\n",
    "ax.text(78, 29, 'Delhi', transform=ccrs.Geodetic());\n",
    "\n",
    "###save figure to file\n",
    "plt.savefig('/LOCATION')"
   ]
  },
  {
   "cell_type": "code",
   "execution_count": null,
   "metadata": {
    "colab": {},
    "colab_type": "code",
    "id": "9rMEywzeg3nz"
   },
   "outputs": [],
   "source": [
    "#WIDGETS LAYOUT\n",
    "\n",
    "land = ipywidgets.Checkbox(description='land', style={'description_width': 'initial'})\n",
    "ocean = ipywidgets.Checkbox(description='ocean', style={'description_width': 'initial'})\n",
    "coastline = ipywidgets.Checkbox(description='coastline', style={'description_width': 'initial'})\n",
    "borders = ipywidgets.Checkbox(description='borders', style={'description_width': 'initial'})\n",
    "lakes = ipywidgets.Checkbox(description='lakes', style={'description_width': 'initial'})\n",
    "rivers = ipywidgets.Checkbox(description='rivers', style={'description_width': 'initial'})\n",
    "states = ipywidgets.Checkbox(description='states', style={'description_width': 'initial'})\n",
    "plot_locations = ipywidgets.Checkbox(description='plot_locations', style={'description_width': 'initial'})\n",
    "\n",
    "box_layout = ipywidgets.Layout(display='inline-flex',                               \n",
    "                               flex_flow='row',\n",
    "                               align_items='stretch',\n",
    "                               border='solid',\n",
    "                               width='100%')\n",
    "\n",
    "ui = ipywidgets.HBox([land, ocean, coastline, borders, lakes, rivers,states, plot_locations], layout=box_layout)\n",
    "\n",
    "def create_map(land,ocean,coastline,borders,lakes,rivers,states,plot_locations):\n",
    "    data_crs = ccrs.PlateCarree()\n",
    "    ax = plt.figure(figsize=(12, 8))\n",
    "    #ax = ax.add_subplot(1, 1, 1, projection=data_crs)\n",
    "    #ax.set_extent([68, 97, 7, 35], ccrs.PlateCarree())  \n",
    "    #STATESLAYOUTDEFINATION\n",
    "    states_provinces = cf.NaturalEarthFeature(category='cultural',\n",
    "                                                name='admin_1_states_provinces',\n",
    "                                                scale='10m',\n",
    "                                                facecolor='none')\n",
    "\n",
    "    ###Global Map\n",
    "    #ax.set_global()\n",
    "    if land == True: ax.add_feature(cfeature.LAND)\n",
    "    if ocean == True: ax.add_feature(cfeature.OCEAN)\n",
    "    if coastline == True: ax.add_feature(cfeature.COASTLINE)\n",
    "    if borders == True: ax.add_feature(cfeature.BORDERS)\n",
    "    if lakes == True: ax.add_feature(cfeature.LAKES, alpha=0.5)\n",
    "    if rivers == True: ax.add_feature(cfeature.RIVERS)\n",
    "    if states == True: ax.add_feature(cfeature.LAND),ax.add_feature(cfeature.COASTLINE),ax.add_feature(states_provinces, edgecolor='gray')    \n",
    "    if plot_locations == True:\n",
    "        delhi_lon, delhi_lat = 77.23, 28.61\n",
    "        ax.plot(delhi_lon, delhi_lat, 'o', transform=data_crs)\n",
    "        ax.text(delhi_lon + 1, delhi_lat - 6, 'Delhi', horizontalalignment='left', transform=data_crs)\n",
    "        \n",
    "out = ipywidgets.interactive_output(create_map, {'land': land,\n",
    "                                                 'ocean': ocean,\n",
    "                                                 'coastline': coastline,\n",
    "                                                 'borders': borders,\n",
    "                                                 'lakes': lakes,\n",
    "                                                 'rivers': rivers,\n",
    "                                                 'states': states,\n",
    "                                                 'plot_locations': plot_locations})\n",
    "\n",
    "display(ui, out)"
   ]
  },
  {
   "cell_type": "code",
   "execution_count": null,
   "metadata": {
    "colab": {},
    "colab_type": "code",
    "id": "W9whAFpag3n2"
   },
   "outputs": [],
   "source": []
  }
 ],
 "metadata": {
  "colab": {
   "name": "finalplot.ipynb",
   "provenance": []
  },
  "kernelspec": {
   "display_name": "Python 3",
   "language": "python",
   "name": "python3"
  },
  "language_info": {
   "codemirror_mode": {
    "name": "ipython",
    "version": 3
   },
   "file_extension": ".py",
   "mimetype": "text/x-python",
   "name": "python",
   "nbconvert_exporter": "python",
   "pygments_lexer": "ipython3",
   "version": "3.7.4"
  }
 },
 "nbformat": 4,
 "nbformat_minor": 1
}
