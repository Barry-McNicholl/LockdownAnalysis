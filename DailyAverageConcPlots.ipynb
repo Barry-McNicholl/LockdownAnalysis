{
 "cells": [
  {
   "cell_type": "code",
   "execution_count": null,
   "metadata": {},
   "outputs": [],
   "source": [
    "import numpy\n",
    "import pandas as pd\n",
    "import matplotlib.pyplot as plt\n",
    "import matplotlib.patches as mpatches"
   ]
  },
  {
   "cell_type": "markdown",
   "metadata": {},
   "source": [
    "## GROUND BASED MONITORING STATION DATA\n"
   ]
  },
  {
   "cell_type": "code",
   "execution_count": null,
   "metadata": {},
   "outputs": [],
   "source": [
    "data = pd.ExcelFile(\"GROUND DATA OF ITOSTATION.xlsx\")\n",
    "data.sheet_names\n",
    "df = data.parse(\"Sheet1\")\n",
    "df.head()"
   ]
  },
  {
   "cell_type": "markdown",
   "metadata": {},
   "source": [
    "### Nitrogen Dioxide \n"
   ]
  },
  {
   "cell_type": "code",
   "execution_count": null,
   "metadata": {},
   "outputs": [],
   "source": [
    "### Ground based monitoring station data\n",
    "### LINE PLOT\n",
    "dfnew = df[['NO22019','NO22020','SO22019','SO22020','Ozone2019','Ozone2020','CO2019','CO2020']]\n",
    "plt.plot(dfnew['NO22019'],marker='.', markerfacecolor='blue',)\n",
    "plt.plot(dfnew['NO22020'],marker='.', color='red',)\n",
    "#bar_width = 20\n",
    "\n",
    "dfnew.head()\n",
    "plt.xticks([15, 44, 75], ['February', 'March','April'],rotation=20)\n",
    "#plt.xticks(x, [\"Feb\",\"March\",\"April\",])\n",
    "\n",
    "plt.title('Nitrogen Dioxide Ground Based Station(Delhi)')\n",
    "plt.ylabel('NO2 Concentration(ug/m3)')\n",
    "plt.grid(axis= 'y')\n",
    "plt.ylim(14,65)\n",
    "blue_patch = mpatches.Patch(color = 'blue', label = '2019')\n",
    "red_patch = mpatches.Patch(color = 'red', label = '2020')\n",
    "plt.legend(handles = [blue_patch, red_patch])\n",
    "fig.tight_layout()\n",
    "plt.savefig('NO2lineplot.pdf')  \n",
    "plt.savefig('NO2lineplot.png', dpi=300, transparent=True) "
   ]
  },
  {
   "cell_type": "markdown",
   "metadata": {},
   "source": [
    "### Sulphur Dioxide"
   ]
  },
  {
   "cell_type": "code",
   "execution_count": null,
   "metadata": {},
   "outputs": [],
   "source": [
    "### Ground based monitoring station data\n",
    "### LINE PLOT\n",
    "dfnew = df[['SO22019','SO22020']] \n",
    "plt.plot(dfnew['SO22019'],marker='.', markerfacecolor='blue',)\n",
    "plt.plot(dfnew['SO22020'],marker='.', color='red',)\n",
    "#bar_width = 20\n",
    "\n",
    "dfnew.head()\n",
    "plt.xticks([15, 44, 75], ['February', 'March','April'],rotation=20)\n",
    "#plt.xticks(x, [\"Feb\",\"March\",\"April\",])\n",
    "\n",
    "plt.title('Sulphur Dioxide Ground Based Station(Delhi)')\n",
    "plt.ylabel('SO2 Concentration(ug/m3)')\n",
    "plt.grid(axis= 'y')\n",
    "plt.ylim(0,44)\n",
    "blue_patch = mpatches.Patch(color = 'blue', label = '2019')\n",
    "red_patch = mpatches.Patch(color = 'red', label = '2020')\n",
    "plt.legend(handles = [blue_patch, red_patch])\n",
    "fig.tight_layout()\n",
    "plt.savefig('SO2lineplot.pdf')  \n",
    "plt.savefig('SO2lineplot.png', dpi=300, transparent=True) "
   ]
  },
  {
   "cell_type": "markdown",
   "metadata": {},
   "source": [
    "### Carbon Monoxide"
   ]
  },
  {
   "cell_type": "code",
   "execution_count": null,
   "metadata": {},
   "outputs": [],
   "source": [
    "### Ground based monitoring station data\n",
    "### LINE PLOT\n",
    "dfnew = df[['CO2019','CO2020']] \n",
    "plt.plot(dfnew['CO2019'],marker='.', markerfacecolor='blue',)\n",
    "plt.plot(dfnew['CO2020'],marker='.', color='red',)\n",
    "#bar_width = 20\n",
    "\n",
    "dfnew.head()\n",
    "plt.xticks([15, 44, 75], ['February', 'March','April'],rotation=20)\n",
    "#plt.xticks(x, [\"Feb\",\"March\",\"April\",])\n",
    "\n",
    "#plt.ylim(0,4.5)\n",
    "plt.grid(axis= 'y')\n",
    "plt.title('Carbon Monoxide Ground Based Station(Delhi)')\n",
    "plt.ylabel('CO Concentration(mg/m3)')\n",
    "blue_patch = mpatches.Patch(color = 'blue', label = '2019')\n",
    "red_patch = mpatches.Patch(color = 'red', label = '2020')\n",
    "plt.legend(handles = [blue_patch, red_patch])\n",
    "fig.tight_layout()\n",
    "plt.savefig('COlineplot.pdf')  \n",
    "plt.savefig('COlineplot.png', dpi=300, transparent=True)"
   ]
  },
  {
   "cell_type": "markdown",
   "metadata": {},
   "source": [
    "### Ozone\n"
   ]
  },
  {
   "cell_type": "code",
   "execution_count": null,
   "metadata": {},
   "outputs": [],
   "source": [
    "### Ground based monitoring station data\n",
    "### LINE PLOT\n",
    "dfnew = df[['Ozone2019','Ozone2020']] \n",
    "plt.plot(dfnew['Ozone2019'],marker='.', markerfacecolor='blue',)\n",
    "plt.plot(dfnew['Ozone2020'],marker='.', color='red',)\n",
    "#bar_width = 20\n",
    "\n",
    "dfnew.head()\n",
    "plt.xticks([15, 44, 75], ['February', 'March','April'],rotation=20)\n",
    "#plt.xticks(x, [\"Feb\",\"March\",\"April\",])\n",
    "\n",
    "plt.grid(axis= 'y')\n",
    "plt.ylim(0, 112)\n",
    "plt.title('OZONE Ground Based Station(Delhi)')\n",
    "plt.ylabel('OZONE Concentration(ug/m3)')\n",
    "blue_patch = mpatches.Patch(color = 'blue', label = '2019')\n",
    "red_patch = mpatches.Patch(color = 'red', label = '2020')\n",
    "plt.legend(handles = [blue_patch, red_patch])\n",
    "fig.tight_layout()\n",
    "plt.savefig('Ozonelineplot.pdf')  \n",
    "plt.savefig('Ozonelineplot.png', dpi=300, transparent=True) "
   ]
  },
  {
   "cell_type": "markdown",
   "metadata": {},
   "source": [
    "## SATELLITE DATA"
   ]
  },
  {
   "cell_type": "code",
   "execution_count": null,
   "metadata": {},
   "outputs": [],
   "source": [
    "yno22019 = [161.2,91.6,83,71.8,94.8,78.5]\n",
    "yno22020 = [126.8,127,95.9,55.2,30.8,52.5]\n",
    "yso22019 = [167.8,286.8,157.71,182.2,278.35,103.984]\n",
    "yso22020 = [11.3,78.3,45.6,-47.4,119,10.8]\n",
    "yco2019 = [41.931377,36.665274,38.162579,38.435829,41.929728,42.298801]\n",
    "yco2020 = [42.358461,42.9999794,39.782489,38.947298,37.675366,41.405953]\n",
    "yozone2019 = [121.3611,118.0041,121.5436,121.54102,125.5626,123.6222]\n",
    "yozone2020 = [129.0004,137.9373,134.2268,136.9481,135.2318,133.0598]"
   ]
  },
  {
   "cell_type": "code",
   "execution_count": null,
   "metadata": {},
   "outputs": [],
   "source": [
    "x = numpy.arange(len(yno22019))"
   ]
  },
  {
   "cell_type": "markdown",
   "metadata": {},
   "source": [
    "### Nitrogen Dioxide\n"
   ]
  },
  {
   "cell_type": "code",
   "execution_count": null,
   "metadata": {},
   "outputs": [],
   "source": [
    "###plot data\n",
    "bar_width = 0.20\n",
    "\n",
    "fig, ax = plt.subplots()\n",
    "plt.bar(x, yno22019, width=bar_width, color='blue')\n",
    "plt.bar(x + bar_width, yno22020, width=bar_width, color='red')\n",
    "\n",
    "###labels\n",
    "plt.xticks(x + bar_width, [\"Feb1-15\",\"Feb16-28\",\"March1-15\",\"March16-31\",\"April1-15\",\"April16-30\"])\n",
    "plt.title('Nitrogen Dioxide Sentinel-5P Data(Delhi)')\n",
    "plt.ylabel('NO2 Concentration(micromol/m2)')\n",
    "\n",
    "\n",
    "# legend\n",
    "plt.ylim(28, 170)\n",
    "blue_patch = mpatches.Patch(color = 'blue', label = '2019')\n",
    "red_patch = mpatches.Patch(color = 'red', label = '2020')\n",
    "plt.legend(handles = [blue_patch, red_patch])\n",
    "\n",
    "#grid\n",
    "\n",
    "plt.grid(axis= 'y')\n",
    "\n",
    "fig.tight_layout()\n",
    "\n",
    "plt.savefig('NO2plot.pdf')  \n",
    "plt.savefig('NO2_plot.png', dpi=300, transparent=True)"
   ]
  },
  {
   "cell_type": "markdown",
   "metadata": {},
   "source": [
    "### Sulphur Dioxide\n"
   ]
  },
  {
   "cell_type": "code",
   "execution_count": null,
   "metadata": {},
   "outputs": [],
   "source": [
    "###plot data\n",
    "bar_width = 0.20\n",
    "\n",
    "fig, ax = plt.subplots()\n",
    "plt.bar(x, yso22019, width=bar_width, color='blue')\n",
    "plt.bar(x + bar_width, yso22020, width=bar_width, color='red')\n",
    "\n",
    "###labels\n",
    "\n",
    "plt.xticks(x + bar_width, [\"Feb1-15\",\"Feb16-28\",\"March1-15\",\"March16-31\",\"April1-15\",\"April16-30\"])\n",
    "plt.title('Sulphur Dioxide Sentinel-5P(Delhi)')\n",
    "plt.ylabel('SO2 Concentration(micromol/m2)')\n",
    "\n",
    "\n",
    "# legend\n",
    "\n",
    "blue_patch = mpatches.Patch(color = 'blue', label = '2019')\n",
    "red_patch = mpatches.Patch(color = 'red', label = '2020')\n",
    "plt.legend(handles = [blue_patch, red_patch])\n",
    "\n",
    "#grid\n",
    "\n",
    "plt.grid(axis= 'y')\n",
    "\n",
    "fig.tight_layout()\n",
    "\n",
    "plt.savefig('SO2plot.pdf')  \n",
    "plt.savefig('SO2_plot.png', dpi=300, transparent=True) "
   ]
  },
  {
   "cell_type": "code",
   "execution_count": null,
   "metadata": {},
   "outputs": [],
   "source": []
  },
  {
   "cell_type": "code",
   "execution_count": null,
   "metadata": {},
   "outputs": [],
   "source": [
    "###plot data\n",
    "bar_width = 0.20\n",
    "\n",
    "fig, ax = plt.subplots()\n",
    "plt.bar(x, yco2019, width=bar_width, color='blue')\n",
    "plt.bar(x + bar_width, yco2020, width=bar_width, color='red')\n",
    "\n",
    "###labels\n",
    "plt.ylim(36, 44)\n",
    "\n",
    "plt.xticks(x + bar_width, [\"Feb1-15\",\"Feb16-28\",\"March1-15\",\"March16-31\",\"April1-15\",\"April16-30\"])\n",
    "plt.title('Carbon Monoxide Sentinel-5P(Delhi)')\n",
    "plt.ylabel('CO Concentration(millimol/m2)')\n",
    "\n",
    "\n",
    "# legend\n",
    "\n",
    "blue_patch = mpatches.Patch(color = 'blue', label = '2019')\n",
    "red_patch = mpatches.Patch(color = 'red', label = '2020')\n",
    "plt.legend(handles = [blue_patch, red_patch])\n",
    "\n",
    "#grid\n",
    "\n",
    "plt.grid(axis= 'y')\n",
    "\n",
    "fig.tight_layout()\n",
    "\n",
    "plt.savefig('COplot.pdf')  \n",
    "plt.savefig('CO_plot.png', dpi=300, transparent=True) "
   ]
  },
  {
   "cell_type": "code",
   "execution_count": null,
   "metadata": {},
   "outputs": [],
   "source": []
  },
  {
   "cell_type": "code",
   "execution_count": null,
   "metadata": {},
   "outputs": [],
   "source": [
    "###plot data\n",
    "bar_width = 0.20\n",
    "\n",
    "fig, ax = plt.subplots()\n",
    "plt.bar(x, yozone2019, width=bar_width, color='blue')\n",
    "plt.bar(x + bar_width, yozone2020, width=bar_width, color='red')\n",
    "\n",
    "###labels\n",
    "plt.ylim(115, 140)\n",
    "plt.xticks(x + bar_width, [\"Feb1-15\",\"Feb16-28\",\"March1-15\",\"March16-31\",\"April1-15\",\"April16-30\"])\n",
    "plt.title('OZONE Sentinel-5P(Delhi)')\n",
    "plt.ylabel('OZONE Concentration(millimol/m2)')\n",
    "\n",
    "\n",
    "# legend\n",
    "\n",
    "blue_patch = mpatches.Patch(color = 'blue', label = '2019')\n",
    "red_patch = mpatches.Patch(color = 'red', label = '2020')\n",
    "plt.legend(handles = [blue_patch, red_patch])\n",
    "\n",
    "#grid\n",
    "\n",
    "plt.grid(axis= 'y')\n",
    "\n",
    "fig.tight_layout()\n",
    "\n",
    "plt.savefig('OZONEplot.pdf')  \n",
    "plt.savefig('OZONE_plot.png', dpi=300, transparent=True) "
   ]
  },
  {
   "cell_type": "code",
   "execution_count": null,
   "metadata": {},
   "outputs": [],
   "source": []
  },
  {
   "cell_type": "code",
   "execution_count": null,
   "metadata": {},
   "outputs": [],
   "source": []
  },
  {
   "cell_type": "code",
   "execution_count": null,
   "metadata": {},
   "outputs": [],
   "source": []
  },
  {
   "cell_type": "code",
   "execution_count": null,
   "metadata": {},
   "outputs": [],
   "source": []
  },
  {
   "cell_type": "code",
   "execution_count": null,
   "metadata": {},
   "outputs": [],
   "source": []
  }
 ],
 "metadata": {
  "kernelspec": {
   "display_name": "Python 3",
   "language": "python",
   "name": "python3"
  },
  "language_info": {
   "codemirror_mode": {
    "name": "ipython",
    "version": 3
   },
   "file_extension": ".py",
   "mimetype": "text/x-python",
   "name": "python",
   "nbconvert_exporter": "python",
   "pygments_lexer": "ipython3",
   "version": "3.7.4"
  }
 },
 "nbformat": 4,
 "nbformat_minor": 2
}
